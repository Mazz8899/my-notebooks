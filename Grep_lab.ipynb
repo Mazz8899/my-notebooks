{
 "cells": [
  {
   "cell_type": "code",
   "execution_count": null,
   "id": "8931eaa8-ac9a-4e1e-b8c2-53f365a40e91",
   "metadata": {},
   "outputs": [],
   "source": [
    "#Find any words in the dictionary stored at /usr/share/dict/words that start with the letter i and end in the letter n that have seven characters.\n",
    "grep '^i.....n$' /usr/share/dict/words"
   ]
  },
  {
   "cell_type": "code",
   "execution_count": null,
   "id": "cc89f86c-2aa7-41e5-917f-7c7e71f6baa7",
   "metadata": {},
   "outputs": [],
   "source": [
    "#How many words end in the letter p?\n",
    "grep 'p$' /usr/share/dict/words | wc -l"
   ]
  },
  {
   "cell_type": "code",
   "execution_count": null,
   "id": "62ed52c3-5e00-4a2f-b03f-c5112dbfad8f",
   "metadata": {},
   "outputs": [],
   "source": [
    "#How many words contain the phrase ‘polin’?\n",
    "grep 'polin' /usr/share/dict/words | wc -l"
   ]
  },
  {
   "cell_type": "code",
   "execution_count": null,
   "id": "5926a132-851d-4a26-a9e8-c303bb3435f0",
   "metadata": {},
   "outputs": [],
   "source": [
    "#How many words start with ‘catti’?\n",
    "grep '^catti' /usr/share/dict/words | wc -l"
   ]
  },
  {
   "cell_type": "code",
   "execution_count": null,
   "id": "840bdb3e-2ed2-4a20-b413-556e32a12d08",
   "metadata": {},
   "outputs": [],
   "source": [
    "#Grep for every line that starts with 178\n",
    "grep '^178' access_log"
   ]
  },
  {
   "cell_type": "code",
   "execution_count": null,
   "id": "5fe6cb67-bbcf-449e-9af2-75d044dc0c7e",
   "metadata": {},
   "outputs": [],
   "source": [
    "#A .(dot or full stop) in a grep command means any character, but if we want to search for a . we need to escape it with \\ like this \\. Find out how many lines in the access log start with 178.32.\n",
    "grep '^178\\.32\\.' access_log | wc -l"
   ]
  },
  {
   "cell_type": "code",
   "execution_count": null,
   "id": "62f8df23-bf96-4306-bd21-90b025af2554",
   "metadata": {},
   "outputs": [],
   "source": [
    "#Pipe the contents of grep into the wc program with -l to get the number of lines, for example: grep ‘Firefox’ access_log | wc -l. How many lines contain the word Apple?\n",
    "grep 'Apple' access_log | wc -l"
   ]
  },
  {
   "cell_type": "code",
   "execution_count": null,
   "id": "129167d5-d4f0-4db5-8c87-05c73727e5f1",
   "metadata": {},
   "outputs": [],
   "source": [
    "#Grep -v gives an inverse search, so you can search for a negative match, using the -v how many lines do not contain the word Apple?\n",
    "grep -v 'Apple' access_log | wc -l"
   ]
  }
 ],
 "metadata": {
  "kernelspec": {
   "display_name": "Bash",
   "language": "bash",
   "name": "bash"
  },
  "language_info": {
   "codemirror_mode": "shell",
   "file_extension": ".sh",
   "mimetype": "text/x-sh",
   "name": "bash"
  }
 },
 "nbformat": 4,
 "nbformat_minor": 5
}
